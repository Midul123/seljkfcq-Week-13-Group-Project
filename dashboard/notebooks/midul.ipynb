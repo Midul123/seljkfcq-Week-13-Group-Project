{
 "cells": [
  {
   "cell_type": "code",
   "execution_count": 5,
   "id": "d212c700",
   "metadata": {},
   "outputs": [],
   "source": [
    "#Extract data\n",
    "\n",
    "import awswrangler as wr\n",
    "import pandas as pd\n",
    "import streamlit as st\n",
    "import boto3\n",
    "from os import environ as ENV\n",
    "import altair as alt"
   ]
  },
  {
   "cell_type": "code",
   "execution_count": null,
   "id": "b4ddf0d0",
   "metadata": {},
   "outputs": [],
   "source": [
    "# Filter\n",
    "\n",
    "def month_filter(col, df: pd.DataFrame):\n",
    "    \"\"\"truck filter\"\"\"\n",
    "    return col.multiselect(\"Select Month\", df[\"month\"])"
   ]
  },
  {
   "cell_type": "code",
   "execution_count": null,
   "id": "43dd3c8c",
   "metadata": {},
   "outputs": [
    {
     "name": "stdout",
     "output_type": "stream",
     "text": [
      "Retrieving data\n"
     ]
    }
   ],
   "source": [
    "# Retrieve data\n",
    "\n",
    "def get_all_data():\n",
    "    \"\"\"Retrieve all data from database\"\"\"\n",
    "    my_session = boto3.Session(\n",
    "        aws_access_key_id=ENV.get(\"AWS_ACCESS_KEY\"),\n",
    "        aws_secret_access_key=ENV.get(\"AWS_SECRET_KEY\"),\n",
    "        region_name=\"eu-west-2\"\n",
    "    )\n",
    "    \n",
    "    query = \"\"\"SELECT * FROM c19_seljkfcq_project\n",
    "    \"\"\"\n",
    "    df = wr.athena.read_sql_query(\n",
    "        query,\n",
    "        database=\"c19-m3y-db\",\n",
    "        boto3_session=my_session)\n",
    "\n",
    "    return pd.DataFrame(df)\n",
    "\n",
    "df=get_all_data()"
   ]
  },
  {
   "cell_type": "code",
   "execution_count": 29,
   "id": "78496ef2",
   "metadata": {},
   "outputs": [
    {
     "data": {
      "text/html": [
       "\n",
       "<style>\n",
       "  #altair-viz-814636eef40d48a1954335eaf4a9baa1.vega-embed {\n",
       "    width: 100%;\n",
       "    display: flex;\n",
       "  }\n",
       "\n",
       "  #altair-viz-814636eef40d48a1954335eaf4a9baa1.vega-embed details,\n",
       "  #altair-viz-814636eef40d48a1954335eaf4a9baa1.vega-embed details summary {\n",
       "    position: relative;\n",
       "  }\n",
       "</style>\n",
       "<div id=\"altair-viz-814636eef40d48a1954335eaf4a9baa1\"></div>\n",
       "<script type=\"text/javascript\">\n",
       "  var VEGA_DEBUG = (typeof VEGA_DEBUG == \"undefined\") ? {} : VEGA_DEBUG;\n",
       "  (function(spec, embedOpt){\n",
       "    let outputDiv = document.currentScript.previousElementSibling;\n",
       "    if (outputDiv.id !== \"altair-viz-814636eef40d48a1954335eaf4a9baa1\") {\n",
       "      outputDiv = document.getElementById(\"altair-viz-814636eef40d48a1954335eaf4a9baa1\");\n",
       "    }\n",
       "\n",
       "    const paths = {\n",
       "      \"vega\": \"https://cdn.jsdelivr.net/npm/vega@5?noext\",\n",
       "      \"vega-lib\": \"https://cdn.jsdelivr.net/npm/vega-lib?noext\",\n",
       "      \"vega-lite\": \"https://cdn.jsdelivr.net/npm/vega-lite@5.20.1?noext\",\n",
       "      \"vega-embed\": \"https://cdn.jsdelivr.net/npm/vega-embed@6?noext\",\n",
       "    };\n",
       "\n",
       "    function maybeLoadScript(lib, version) {\n",
       "      var key = `${lib.replace(\"-\", \"\")}_version`;\n",
       "      return (VEGA_DEBUG[key] == version) ?\n",
       "        Promise.resolve(paths[lib]) :\n",
       "        new Promise(function(resolve, reject) {\n",
       "          var s = document.createElement('script');\n",
       "          document.getElementsByTagName(\"head\")[0].appendChild(s);\n",
       "          s.async = true;\n",
       "          s.onload = () => {\n",
       "            VEGA_DEBUG[key] = version;\n",
       "            return resolve(paths[lib]);\n",
       "          };\n",
       "          s.onerror = () => reject(`Error loading script: ${paths[lib]}`);\n",
       "          s.src = paths[lib];\n",
       "        });\n",
       "    }\n",
       "\n",
       "    function showError(err) {\n",
       "      outputDiv.innerHTML = `<div class=\"error\" style=\"color:red;\">${err}</div>`;\n",
       "      throw err;\n",
       "    }\n",
       "\n",
       "    function displayChart(vegaEmbed) {\n",
       "      vegaEmbed(outputDiv, spec, embedOpt)\n",
       "        .catch(err => showError(`Javascript Error: ${err.message}<br>This usually means there's a typo in your chart specification. See the javascript console for the full traceback.`));\n",
       "    }\n",
       "\n",
       "    if(typeof define === \"function\" && define.amd) {\n",
       "      requirejs.config({paths});\n",
       "      let deps = [\"vega-embed\"];\n",
       "      require(deps, displayChart, err => showError(`Error loading script: ${err.message}`));\n",
       "    } else {\n",
       "      maybeLoadScript(\"vega\", \"5\")\n",
       "        .then(() => maybeLoadScript(\"vega-lite\", \"5.20.1\"))\n",
       "        .then(() => maybeLoadScript(\"vega-embed\", \"6\"))\n",
       "        .catch(showError)\n",
       "        .then(() => displayChart(vegaEmbed));\n",
       "    }\n",
       "  })({\"config\": {\"view\": {\"continuousWidth\": 300, \"continuousHeight\": 300}}, \"data\": {\"name\": \"data-ca2cc5650d3931c99ac058e648d36557\"}, \"mark\": {\"type\": \"line\"}, \"encoding\": {\"color\": {\"field\": \"plant_name\", \"title\": \"Plant Name\", \"type\": \"nominal\"}, \"tooltip\": [{\"field\": \"day\", \"type\": \"temporal\"}, {\"field\": \"plant_name\", \"type\": \"nominal\"}, {\"field\": \"average_temperature\", \"type\": \"quantitative\"}], \"x\": {\"field\": \"day\", \"title\": \"Day\", \"type\": \"temporal\"}, \"y\": {\"field\": \"average_temperature\", \"title\": \"AVG Temperature\", \"type\": \"quantitative\"}}, \"title\": \"Average Daily Temperature Over Time by Plant\", \"$schema\": \"https://vega.github.io/schema/vega-lite/v5.20.1.json\", \"datasets\": {\"data-ca2cc5650d3931c99ac058e648d36557\": [{\"plant_id\": 1, \"plant_name\": \"Venus flytrap\", \"city_id\": 1, \"city_name\": \"Stammside\", \"average_temperature\": 14, \"average_soil_moisture\": 26.7, \"number_of_times_watered\": 1, \"number_of_recordings_taken\": 6, \"partition_0\": \"input\", \"partition_1\": \"plant_readings\", \"year\": \"2025\", \"month\": \"9\", \"day\": \"26\"}, {\"plant_id\": 2, \"plant_name\": \"Corpse flower\", \"city_id\": 2, \"city_name\": \"Floshire\", \"average_temperature\": 14, \"average_soil_moisture\": 37.55, \"number_of_times_watered\": 1, \"number_of_recordings_taken\": 6, \"partition_0\": \"input\", \"partition_1\": \"plant_readings\", \"year\": \"2025\", \"month\": \"9\", \"day\": \"26\"}, {\"plant_id\": 3, \"plant_name\": \"Rafflesia arnoldii\", \"city_id\": 3, \"city_name\": \"Dale City\", \"average_temperature\": 15, \"average_soil_moisture\": 33.14, \"number_of_times_watered\": 1, \"number_of_recordings_taken\": 6, \"partition_0\": \"input\", \"partition_1\": \"plant_readings\", \"year\": \"2025\", \"month\": \"9\", \"day\": \"26\"}, {\"plant_id\": 4, \"plant_name\": \"Black bat flower\", \"city_id\": 4, \"city_name\": \"West Tedboro\", \"average_temperature\": 16, \"average_soil_moisture\": 35.83, \"number_of_times_watered\": 1, \"number_of_recordings_taken\": 6, \"partition_0\": \"input\", \"partition_1\": \"plant_readings\", \"year\": \"2025\", \"month\": \"9\", \"day\": \"26\"}, {\"plant_id\": 5, \"plant_name\": \"Pitcher plant\", \"city_id\": 5, \"city_name\": \"North Felicia\", \"average_temperature\": 16, \"average_soil_moisture\": 32.91, \"number_of_times_watered\": 1, \"number_of_recordings_taken\": 6, \"partition_0\": \"input\", \"partition_1\": \"plant_readings\", \"year\": \"2025\", \"month\": \"9\", \"day\": \"26\"}, {\"plant_id\": 6, \"plant_name\": \"Wollemi pine\", \"city_id\": 6, \"city_name\": \"Ferryfort\", \"average_temperature\": 15, \"average_soil_moisture\": 29.56, \"number_of_times_watered\": 1, \"number_of_recordings_taken\": 6, \"partition_0\": \"input\", \"partition_1\": \"plant_readings\", \"year\": \"2025\", \"month\": \"9\", \"day\": \"26\"}, {\"plant_id\": 7, \"plant_name\": \"Bird of paradise\", \"city_id\": 7, \"city_name\": \"Edwardfurt\", \"average_temperature\": 16, \"average_soil_moisture\": 30.98, \"number_of_times_watered\": 1, \"number_of_recordings_taken\": 6, \"partition_0\": \"input\", \"partition_1\": \"plant_readings\", \"year\": \"2025\", \"month\": \"9\", \"day\": \"26\"}, {\"plant_id\": 8, \"plant_name\": \"Cactus\", \"city_id\": 8, \"city_name\": \"Port Johan\", \"average_temperature\": 14, \"average_soil_moisture\": 35.58, \"number_of_times_watered\": 1, \"number_of_recordings_taken\": 6, \"partition_0\": \"input\", \"partition_1\": \"plant_readings\", \"year\": \"2025\", \"month\": \"9\", \"day\": \"26\"}, {\"plant_id\": 9, \"plant_name\": \"Dragon tree\", \"city_id\": 9, \"city_name\": \"North Adriel\", \"average_temperature\": 13, \"average_soil_moisture\": 33.86, \"number_of_times_watered\": 1, \"number_of_recordings_taken\": 6, \"partition_0\": \"input\", \"partition_1\": \"plant_readings\", \"year\": \"2025\", \"month\": \"9\", \"day\": \"26\"}, {\"plant_id\": 10, \"plant_name\": \"Asclepias Curassavica\", \"city_id\": 10, \"city_name\": \"Dorianland\", \"average_temperature\": 18, \"average_soil_moisture\": 32.19, \"number_of_times_watered\": 1, \"number_of_recordings_taken\": 6, \"partition_0\": \"input\", \"partition_1\": \"plant_readings\", \"year\": \"2025\", \"month\": \"9\", \"day\": \"26\"}, {\"plant_id\": 11, \"plant_name\": \"Brugmansia X Candida\", \"city_id\": 11, \"city_name\": \"Fort Maya\", \"average_temperature\": 15, \"average_soil_moisture\": 24.73, \"number_of_times_watered\": 1, \"number_of_recordings_taken\": 6, \"partition_0\": \"input\", \"partition_1\": \"plant_readings\", \"year\": \"2025\", \"month\": \"9\", \"day\": \"26\"}, {\"plant_id\": 12, \"plant_name\": \"Colocasia Esculenta\", \"city_id\": 12, \"city_name\": \"Felixberg\", \"average_temperature\": 15, \"average_soil_moisture\": 31.79, \"number_of_times_watered\": 1, \"number_of_recordings_taken\": 6, \"partition_0\": \"input\", \"partition_1\": \"plant_readings\", \"year\": \"2025\", \"month\": \"9\", \"day\": \"26\"}, {\"plant_id\": 13, \"plant_name\": \"Cuphea \\u2018David Verity\\u2019\", \"city_id\": 13, \"city_name\": \"New Clark\", \"average_temperature\": 15, \"average_soil_moisture\": 34.93, \"number_of_times_watered\": 1, \"number_of_recordings_taken\": 6, \"partition_0\": \"input\", \"partition_1\": \"plant_readings\", \"year\": \"2025\", \"month\": \"9\", \"day\": \"26\"}, {\"plant_id\": 14, \"plant_name\": \"Euphorbia Cotinifolia\", \"city_id\": 14, \"city_name\": \"Boscomouth\", \"average_temperature\": 15, \"average_soil_moisture\": 0.36, \"number_of_times_watered\": 1, \"number_of_recordings_taken\": 6, \"partition_0\": \"input\", \"partition_1\": \"plant_readings\", \"year\": \"2025\", \"month\": \"9\", \"day\": \"26\"}, {\"plant_id\": 15, \"plant_name\": \"Ipomoea Batatas\", \"city_id\": 15, \"city_name\": \"Herzogland\", \"average_temperature\": 15, \"average_soil_moisture\": 28.81, \"number_of_times_watered\": 1, \"number_of_recordings_taken\": 6, \"partition_0\": \"input\", \"partition_1\": \"plant_readings\", \"year\": \"2025\", \"month\": \"9\", \"day\": \"26\"}, {\"plant_id\": 32, \"plant_name\": \"Monstera Deliciosa\", \"city_id\": 33, \"city_name\": \"Clearwater\", \"average_temperature\": 16, \"average_soil_moisture\": 36.64, \"number_of_times_watered\": 1, \"number_of_recordings_taken\": 6, \"partition_0\": \"input\", \"partition_1\": \"plant_readings\", \"year\": \"2025\", \"month\": \"9\", \"day\": \"26\"}, {\"plant_id\": 33, \"plant_name\": \"Tacca Integrifolia\", \"city_id\": 34, \"city_name\": \"South Armani\", \"average_temperature\": 13, \"average_soil_moisture\": 32.86, \"number_of_times_watered\": 1, \"number_of_recordings_taken\": 6, \"partition_0\": \"input\", \"partition_1\": \"plant_readings\", \"year\": \"2025\", \"month\": \"9\", \"day\": \"26\"}, {\"plant_id\": 34, \"plant_name\": \"Psychopsis Papilio\", \"city_id\": 35, \"city_name\": \"Port Fredrick\", \"average_temperature\": 17, \"average_soil_moisture\": 34.04, \"number_of_times_watered\": 1, \"number_of_recordings_taken\": 6, \"partition_0\": \"input\", \"partition_1\": \"plant_readings\", \"year\": \"2025\", \"month\": \"9\", \"day\": \"26\"}, {\"plant_id\": 35, \"plant_name\": \"Saintpaulia Ionantha\", \"city_id\": 36, \"city_name\": \"Peoria\", \"average_temperature\": 15, \"average_soil_moisture\": 29.48, \"number_of_times_watered\": 1, \"number_of_recordings_taken\": 6, \"partition_0\": \"input\", \"partition_1\": \"plant_readings\", \"year\": \"2025\", \"month\": \"9\", \"day\": \"26\"}, {\"plant_id\": 36, \"plant_name\": \"Amaryllis\", \"city_id\": 37, \"city_name\": \"South Hectorstead\", \"average_temperature\": 16, \"average_soil_moisture\": 37.06, \"number_of_times_watered\": 1, \"number_of_recordings_taken\": 5, \"partition_0\": \"input\", \"partition_1\": \"plant_readings\", \"year\": \"2025\", \"month\": \"9\", \"day\": \"26\"}, {\"plant_id\": 37, \"plant_name\": \"Caladium Bicolor\", \"city_id\": 38, \"city_name\": \"Ernserworth\", \"average_temperature\": 15, \"average_soil_moisture\": 35.25, \"number_of_times_watered\": 1, \"number_of_recordings_taken\": 6, \"partition_0\": \"input\", \"partition_1\": \"plant_readings\", \"year\": \"2025\", \"month\": \"9\", \"day\": \"26\"}, {\"plant_id\": 38, \"plant_name\": \"Chlorophytum Comosum\", \"city_id\": 39, \"city_name\": \"Buffalo Grove\", \"average_temperature\": 13, \"average_soil_moisture\": 36.49, \"number_of_times_watered\": 1, \"number_of_recordings_taken\": 6, \"partition_0\": \"input\", \"partition_1\": \"plant_readings\", \"year\": \"2025\", \"month\": \"9\", \"day\": \"26\"}, {\"plant_id\": 39, \"plant_name\": \"Araucaria Heterophylla\", \"city_id\": 40, \"city_name\": \"Catonsville\", \"average_temperature\": 15, \"average_soil_moisture\": 34.01, \"number_of_times_watered\": 1, \"number_of_recordings_taken\": 6, \"partition_0\": \"input\", \"partition_1\": \"plant_readings\", \"year\": \"2025\", \"month\": \"9\", \"day\": \"26\"}, {\"plant_id\": 40, \"plant_name\": \"Begonia\", \"city_id\": 41, \"city_name\": \"South Julianview\", \"average_temperature\": 17, \"average_soil_moisture\": 11.55, \"number_of_times_watered\": 1, \"number_of_recordings_taken\": 6, \"partition_0\": \"input\", \"partition_1\": \"plant_readings\", \"year\": \"2025\", \"month\": \"9\", \"day\": \"26\"}, {\"plant_id\": 41, \"plant_name\": \"Medinilla Magnifica\", \"city_id\": 42, \"city_name\": \"Kathrynville\", \"average_temperature\": 17, \"average_soil_moisture\": 30.84, \"number_of_times_watered\": 1, \"number_of_recordings_taken\": 6, \"partition_0\": \"input\", \"partition_1\": \"plant_readings\", \"year\": \"2025\", \"month\": \"9\", \"day\": \"26\"}, {\"plant_id\": 42, \"plant_name\": \"Calliandra Haematocephala\", \"city_id\": 43, \"city_name\": \"Gavinstad\", \"average_temperature\": 12, \"average_soil_moisture\": 4.54, \"number_of_times_watered\": 1, \"number_of_recordings_taken\": 6, \"partition_0\": \"input\", \"partition_1\": \"plant_readings\", \"year\": \"2025\", \"month\": \"9\", \"day\": \"26\"}, {\"plant_id\": 43, \"plant_name\": \"Zamioculcas Zamiifolia\", \"city_id\": 44, \"city_name\": \"Lake Norbertstead\", \"average_temperature\": 14, \"average_soil_moisture\": 34.3, \"number_of_times_watered\": 1, \"number_of_recordings_taken\": 6, \"partition_0\": \"input\", \"partition_1\": \"plant_readings\", \"year\": \"2025\", \"month\": \"9\", \"day\": \"26\"}, {\"plant_id\": 44, \"plant_name\": \"Crassula Ovata\", \"city_id\": 45, \"city_name\": \"Ginaberg\", \"average_temperature\": 17, \"average_soil_moisture\": 32.96, \"number_of_times_watered\": 1, \"number_of_recordings_taken\": 6, \"partition_0\": \"input\", \"partition_1\": \"plant_readings\", \"year\": \"2025\", \"month\": \"9\", \"day\": \"26\"}, {\"plant_id\": 45, \"plant_name\": \"Epipremnum Aureum\", \"city_id\": 46, \"city_name\": \"Joanyland\", \"average_temperature\": 15, \"average_soil_moisture\": 34.91, \"number_of_times_watered\": 1, \"number_of_recordings_taken\": 6, \"partition_0\": \"input\", \"partition_1\": \"plant_readings\", \"year\": \"2025\", \"month\": \"9\", \"day\": \"26\"}, {\"plant_id\": 46, \"plant_name\": \"Canna \\u2018Striata\\u2019\", \"city_id\": 47, \"city_name\": \"Annaboro\", \"average_temperature\": 14, \"average_soil_moisture\": 36.07, \"number_of_times_watered\": 1, \"number_of_recordings_taken\": 5, \"partition_0\": \"input\", \"partition_1\": \"plant_readings\", \"year\": \"2025\", \"month\": \"9\", \"day\": \"26\"}, {\"plant_id\": 47, \"plant_name\": \"Gaillardia\", \"city_id\": 48, \"city_name\": \"Littlehaven\", \"average_temperature\": 14, \"average_soil_moisture\": 32.11, \"number_of_times_watered\": 1, \"number_of_recordings_taken\": 5, \"partition_0\": \"input\", \"partition_1\": \"plant_readings\", \"year\": \"2025\", \"month\": \"9\", \"day\": \"26\"}, {\"plant_id\": 16, \"plant_name\": \"Manihot Esculenta \\u2018Variegata\\u2019\", \"city_id\": 16, \"city_name\": \"Miramar\", \"average_temperature\": 12, \"average_soil_moisture\": 36.72, \"number_of_times_watered\": 1, \"number_of_recordings_taken\": 6, \"partition_0\": \"input\", \"partition_1\": \"plant_readings\", \"year\": \"2025\", \"month\": \"9\", \"day\": \"26\"}, {\"plant_id\": 17, \"plant_name\": \"Musa Basjoo\", \"city_id\": 17, \"city_name\": \"Port Jennings\", \"average_temperature\": 14, \"average_soil_moisture\": 35.28, \"number_of_times_watered\": 1, \"number_of_recordings_taken\": 6, \"partition_0\": \"input\", \"partition_1\": \"plant_readings\", \"year\": \"2025\", \"month\": \"9\", \"day\": \"26\"}, {\"plant_id\": 18, \"plant_name\": \"Salvia Splendens\", \"city_id\": 18, \"city_name\": \"Oceanside\", \"average_temperature\": 15, \"average_soil_moisture\": 32.89, \"number_of_times_watered\": 1, \"number_of_recordings_taken\": 6, \"partition_0\": \"input\", \"partition_1\": \"plant_readings\", \"year\": \"2025\", \"month\": \"9\", \"day\": \"26\"}, {\"plant_id\": 19, \"plant_name\": \"Anthurium\", \"city_id\": 19, \"city_name\": \"Hollisfurt\", \"average_temperature\": 14, \"average_soil_moisture\": 30.27, \"number_of_times_watered\": 1, \"number_of_recordings_taken\": 5, \"partition_0\": \"input\", \"partition_1\": \"plant_readings\", \"year\": \"2025\", \"month\": \"9\", \"day\": \"26\"}, {\"plant_id\": 20, \"plant_name\": \"Cordyline Fruticosa\", \"city_id\": 21, \"city_name\": \"New Glenda\", \"average_temperature\": 16, \"average_soil_moisture\": 31.61, \"number_of_times_watered\": 1, \"number_of_recordings_taken\": 6, \"partition_0\": \"input\", \"partition_1\": \"plant_readings\", \"year\": \"2025\", \"month\": \"9\", \"day\": \"26\"}, {\"plant_id\": 21, \"plant_name\": \"Ficus\", \"city_id\": 22, \"city_name\": \"Adamshaven\", \"average_temperature\": 14, \"average_soil_moisture\": 36.37, \"number_of_times_watered\": 1, \"number_of_recordings_taken\": 6, \"partition_0\": \"input\", \"partition_1\": \"plant_readings\", \"year\": \"2025\", \"month\": \"9\", \"day\": \"26\"}, {\"plant_id\": 22, \"plant_name\": \"Palm Trees\", \"city_id\": 23, \"city_name\": \"Laronburgh\", \"average_temperature\": 14, \"average_soil_moisture\": 34.83, \"number_of_times_watered\": 1, \"number_of_recordings_taken\": 6, \"partition_0\": \"input\", \"partition_1\": \"plant_readings\", \"year\": \"2025\", \"month\": \"9\", \"day\": \"26\"}, {\"plant_id\": 23, \"plant_name\": \"Dieffenbachia Seguine\", \"city_id\": 24, \"city_name\": \"South Nyasia\", \"average_temperature\": 15, \"average_soil_moisture\": 33.1, \"number_of_times_watered\": 1, \"number_of_recordings_taken\": 6, \"partition_0\": \"input\", \"partition_1\": \"plant_readings\", \"year\": \"2025\", \"month\": \"9\", \"day\": \"26\"}, {\"plant_id\": 24, \"plant_name\": \"Spathiphyllum\", \"city_id\": 25, \"city_name\": \"South Dawn\", \"average_temperature\": 13, \"average_soil_moisture\": 35.32, \"number_of_times_watered\": 1, \"number_of_recordings_taken\": 6, \"partition_0\": \"input\", \"partition_1\": \"plant_readings\", \"year\": \"2025\", \"month\": \"9\", \"day\": \"26\"}, {\"plant_id\": 25, \"plant_name\": \"Croton\", \"city_id\": 26, \"city_name\": \"Greenholtland\", \"average_temperature\": 15, \"average_soil_moisture\": 33.68, \"number_of_times_watered\": 1, \"number_of_recordings_taken\": 6, \"partition_0\": \"input\", \"partition_1\": \"plant_readings\", \"year\": \"2025\", \"month\": \"9\", \"day\": \"26\"}, {\"plant_id\": 26, \"plant_name\": \"Aloe Vera\", \"city_id\": 27, \"city_name\": \"Potomac\", \"average_temperature\": 17, \"average_soil_moisture\": 32.64, \"number_of_times_watered\": 1, \"number_of_recordings_taken\": 6, \"partition_0\": \"input\", \"partition_1\": \"plant_readings\", \"year\": \"2025\", \"month\": \"9\", \"day\": \"26\"}, {\"plant_id\": 27, \"plant_name\": \"Ficus Elastica\", \"city_id\": 28, \"city_name\": \"Portsmouth\", \"average_temperature\": 16, \"average_soil_moisture\": 32.46, \"number_of_times_watered\": 1, \"number_of_recordings_taken\": 6, \"partition_0\": \"input\", \"partition_1\": \"plant_readings\", \"year\": \"2025\", \"month\": \"9\", \"day\": \"26\"}, {\"plant_id\": 28, \"plant_name\": \"Sansevieria Trifasciata\", \"city_id\": 29, \"city_name\": \"Ottomouth\", \"average_temperature\": 17, \"average_soil_moisture\": 33.94, \"number_of_times_watered\": 1, \"number_of_recordings_taken\": 6, \"partition_0\": \"input\", \"partition_1\": \"plant_readings\", \"year\": \"2025\", \"month\": \"9\", \"day\": \"26\"}, {\"plant_id\": 29, \"plant_name\": \"Philodendron Hederaceum\", \"city_id\": 30, \"city_name\": \"Steuberfurt\", \"average_temperature\": 16, \"average_soil_moisture\": 32.57, \"number_of_times_watered\": 1, \"number_of_recordings_taken\": 6, \"partition_0\": \"input\", \"partition_1\": \"plant_readings\", \"year\": \"2025\", \"month\": \"9\", \"day\": \"26\"}, {\"plant_id\": 30, \"plant_name\": \"Schefflera Arboricola\", \"city_id\": 31, \"city_name\": \"Cutler Bay\", \"average_temperature\": 16, \"average_soil_moisture\": 30.45, \"number_of_times_watered\": 1, \"number_of_recordings_taken\": 6, \"partition_0\": \"input\", \"partition_1\": \"plant_readings\", \"year\": \"2025\", \"month\": \"9\", \"day\": \"26\"}, {\"plant_id\": 31, \"plant_name\": \"Aglaonema Commutatum\", \"city_id\": 32, \"city_name\": \"New Danika\", \"average_temperature\": 13, \"average_soil_moisture\": 33.22, \"number_of_times_watered\": 1, \"number_of_recordings_taken\": 6, \"partition_0\": \"input\", \"partition_1\": \"plant_readings\", \"year\": \"2025\", \"month\": \"9\", \"day\": \"26\"}]}}, {\"mode\": \"vega-lite\"});\n",
       "</script>"
      ],
      "text/plain": [
       "alt.Chart(...)"
      ]
     },
     "execution_count": 29,
     "metadata": {},
     "output_type": "execute_result"
    }
   ],
   "source": [
    "# Bar chart plant_reading\n",
    "\n",
    "\n",
    "def create_line_chart(df: pd.DataFrame):\n",
    "    chart = alt.Chart(df).mark_line().encode(\n",
    "        x=alt.X(\"day:T\", title=\"Day\"),  # Time-aware axis\n",
    "        y=alt.Y(\"average_temperature:Q\", title=\"AVG Temperature\"),\n",
    "        color=alt.Color(\"plant_name:N\", title=\"Plant Name\"),\n",
    "        tooltip=[\"day:T\", \"plant_name:N\", \"average_temperature:Q\"]\n",
    "    ).properties(\n",
    "        title=\"Average Daily Temperature Over Time by Plant\"\n",
    "    )\n",
    "    return chart\n",
    "\n",
    "\n",
    "chart = create_line_chart(df)\n",
    "chart"
   ]
  },
  {
   "cell_type": "code",
   "execution_count": 28,
   "id": "5771ae30",
   "metadata": {},
   "outputs": [
    {
     "data": {
      "text/html": [
       "\n",
       "<style>\n",
       "  #altair-viz-fb36f3731cb5456b981def6033b8e36b.vega-embed {\n",
       "    width: 100%;\n",
       "    display: flex;\n",
       "  }\n",
       "\n",
       "  #altair-viz-fb36f3731cb5456b981def6033b8e36b.vega-embed details,\n",
       "  #altair-viz-fb36f3731cb5456b981def6033b8e36b.vega-embed details summary {\n",
       "    position: relative;\n",
       "  }\n",
       "</style>\n",
       "<div id=\"altair-viz-fb36f3731cb5456b981def6033b8e36b\"></div>\n",
       "<script type=\"text/javascript\">\n",
       "  var VEGA_DEBUG = (typeof VEGA_DEBUG == \"undefined\") ? {} : VEGA_DEBUG;\n",
       "  (function(spec, embedOpt){\n",
       "    let outputDiv = document.currentScript.previousElementSibling;\n",
       "    if (outputDiv.id !== \"altair-viz-fb36f3731cb5456b981def6033b8e36b\") {\n",
       "      outputDiv = document.getElementById(\"altair-viz-fb36f3731cb5456b981def6033b8e36b\");\n",
       "    }\n",
       "\n",
       "    const paths = {\n",
       "      \"vega\": \"https://cdn.jsdelivr.net/npm/vega@5?noext\",\n",
       "      \"vega-lib\": \"https://cdn.jsdelivr.net/npm/vega-lib?noext\",\n",
       "      \"vega-lite\": \"https://cdn.jsdelivr.net/npm/vega-lite@5.20.1?noext\",\n",
       "      \"vega-embed\": \"https://cdn.jsdelivr.net/npm/vega-embed@6?noext\",\n",
       "    };\n",
       "\n",
       "    function maybeLoadScript(lib, version) {\n",
       "      var key = `${lib.replace(\"-\", \"\")}_version`;\n",
       "      return (VEGA_DEBUG[key] == version) ?\n",
       "        Promise.resolve(paths[lib]) :\n",
       "        new Promise(function(resolve, reject) {\n",
       "          var s = document.createElement('script');\n",
       "          document.getElementsByTagName(\"head\")[0].appendChild(s);\n",
       "          s.async = true;\n",
       "          s.onload = () => {\n",
       "            VEGA_DEBUG[key] = version;\n",
       "            return resolve(paths[lib]);\n",
       "          };\n",
       "          s.onerror = () => reject(`Error loading script: ${paths[lib]}`);\n",
       "          s.src = paths[lib];\n",
       "        });\n",
       "    }\n",
       "\n",
       "    function showError(err) {\n",
       "      outputDiv.innerHTML = `<div class=\"error\" style=\"color:red;\">${err}</div>`;\n",
       "      throw err;\n",
       "    }\n",
       "\n",
       "    function displayChart(vegaEmbed) {\n",
       "      vegaEmbed(outputDiv, spec, embedOpt)\n",
       "        .catch(err => showError(`Javascript Error: ${err.message}<br>This usually means there's a typo in your chart specification. See the javascript console for the full traceback.`));\n",
       "    }\n",
       "\n",
       "    if(typeof define === \"function\" && define.amd) {\n",
       "      requirejs.config({paths});\n",
       "      let deps = [\"vega-embed\"];\n",
       "      require(deps, displayChart, err => showError(`Error loading script: ${err.message}`));\n",
       "    } else {\n",
       "      maybeLoadScript(\"vega\", \"5\")\n",
       "        .then(() => maybeLoadScript(\"vega-lite\", \"5.20.1\"))\n",
       "        .then(() => maybeLoadScript(\"vega-embed\", \"6\"))\n",
       "        .catch(showError)\n",
       "        .then(() => displayChart(vegaEmbed));\n",
       "    }\n",
       "  })({\"config\": {\"view\": {\"continuousWidth\": 300, \"continuousHeight\": 300}}, \"data\": {\"name\": \"data-ca2cc5650d3931c99ac058e648d36557\"}, \"mark\": {\"type\": \"line\"}, \"encoding\": {\"color\": {\"field\": \"plant_name\", \"title\": \"Plant Name\", \"type\": \"nominal\"}, \"tooltip\": [{\"field\": \"day\", \"type\": \"temporal\"}, {\"field\": \"plant_name\", \"type\": \"nominal\"}, {\"field\": \"average_soil_moisture\", \"type\": \"quantitative\"}], \"x\": {\"field\": \"day\", \"title\": \"Day\", \"type\": \"temporal\"}, \"y\": {\"field\": \"average_soil_moisture\", \"title\": \"Average Moisture\", \"type\": \"quantitative\"}}, \"title\": \"Average Daily Moisture Over Time by Plant\", \"$schema\": \"https://vega.github.io/schema/vega-lite/v5.20.1.json\", \"datasets\": {\"data-ca2cc5650d3931c99ac058e648d36557\": [{\"plant_id\": 1, \"plant_name\": \"Venus flytrap\", \"city_id\": 1, \"city_name\": \"Stammside\", \"average_temperature\": 14, \"average_soil_moisture\": 26.7, \"number_of_times_watered\": 1, \"number_of_recordings_taken\": 6, \"partition_0\": \"input\", \"partition_1\": \"plant_readings\", \"year\": \"2025\", \"month\": \"9\", \"day\": \"26\"}, {\"plant_id\": 2, \"plant_name\": \"Corpse flower\", \"city_id\": 2, \"city_name\": \"Floshire\", \"average_temperature\": 14, \"average_soil_moisture\": 37.55, \"number_of_times_watered\": 1, \"number_of_recordings_taken\": 6, \"partition_0\": \"input\", \"partition_1\": \"plant_readings\", \"year\": \"2025\", \"month\": \"9\", \"day\": \"26\"}, {\"plant_id\": 3, \"plant_name\": \"Rafflesia arnoldii\", \"city_id\": 3, \"city_name\": \"Dale City\", \"average_temperature\": 15, \"average_soil_moisture\": 33.14, \"number_of_times_watered\": 1, \"number_of_recordings_taken\": 6, \"partition_0\": \"input\", \"partition_1\": \"plant_readings\", \"year\": \"2025\", \"month\": \"9\", \"day\": \"26\"}, {\"plant_id\": 4, \"plant_name\": \"Black bat flower\", \"city_id\": 4, \"city_name\": \"West Tedboro\", \"average_temperature\": 16, \"average_soil_moisture\": 35.83, \"number_of_times_watered\": 1, \"number_of_recordings_taken\": 6, \"partition_0\": \"input\", \"partition_1\": \"plant_readings\", \"year\": \"2025\", \"month\": \"9\", \"day\": \"26\"}, {\"plant_id\": 5, \"plant_name\": \"Pitcher plant\", \"city_id\": 5, \"city_name\": \"North Felicia\", \"average_temperature\": 16, \"average_soil_moisture\": 32.91, \"number_of_times_watered\": 1, \"number_of_recordings_taken\": 6, \"partition_0\": \"input\", \"partition_1\": \"plant_readings\", \"year\": \"2025\", \"month\": \"9\", \"day\": \"26\"}, {\"plant_id\": 6, \"plant_name\": \"Wollemi pine\", \"city_id\": 6, \"city_name\": \"Ferryfort\", \"average_temperature\": 15, \"average_soil_moisture\": 29.56, \"number_of_times_watered\": 1, \"number_of_recordings_taken\": 6, \"partition_0\": \"input\", \"partition_1\": \"plant_readings\", \"year\": \"2025\", \"month\": \"9\", \"day\": \"26\"}, {\"plant_id\": 7, \"plant_name\": \"Bird of paradise\", \"city_id\": 7, \"city_name\": \"Edwardfurt\", \"average_temperature\": 16, \"average_soil_moisture\": 30.98, \"number_of_times_watered\": 1, \"number_of_recordings_taken\": 6, \"partition_0\": \"input\", \"partition_1\": \"plant_readings\", \"year\": \"2025\", \"month\": \"9\", \"day\": \"26\"}, {\"plant_id\": 8, \"plant_name\": \"Cactus\", \"city_id\": 8, \"city_name\": \"Port Johan\", \"average_temperature\": 14, \"average_soil_moisture\": 35.58, \"number_of_times_watered\": 1, \"number_of_recordings_taken\": 6, \"partition_0\": \"input\", \"partition_1\": \"plant_readings\", \"year\": \"2025\", \"month\": \"9\", \"day\": \"26\"}, {\"plant_id\": 9, \"plant_name\": \"Dragon tree\", \"city_id\": 9, \"city_name\": \"North Adriel\", \"average_temperature\": 13, \"average_soil_moisture\": 33.86, \"number_of_times_watered\": 1, \"number_of_recordings_taken\": 6, \"partition_0\": \"input\", \"partition_1\": \"plant_readings\", \"year\": \"2025\", \"month\": \"9\", \"day\": \"26\"}, {\"plant_id\": 10, \"plant_name\": \"Asclepias Curassavica\", \"city_id\": 10, \"city_name\": \"Dorianland\", \"average_temperature\": 18, \"average_soil_moisture\": 32.19, \"number_of_times_watered\": 1, \"number_of_recordings_taken\": 6, \"partition_0\": \"input\", \"partition_1\": \"plant_readings\", \"year\": \"2025\", \"month\": \"9\", \"day\": \"26\"}, {\"plant_id\": 11, \"plant_name\": \"Brugmansia X Candida\", \"city_id\": 11, \"city_name\": \"Fort Maya\", \"average_temperature\": 15, \"average_soil_moisture\": 24.73, \"number_of_times_watered\": 1, \"number_of_recordings_taken\": 6, \"partition_0\": \"input\", \"partition_1\": \"plant_readings\", \"year\": \"2025\", \"month\": \"9\", \"day\": \"26\"}, {\"plant_id\": 12, \"plant_name\": \"Colocasia Esculenta\", \"city_id\": 12, \"city_name\": \"Felixberg\", \"average_temperature\": 15, \"average_soil_moisture\": 31.79, \"number_of_times_watered\": 1, \"number_of_recordings_taken\": 6, \"partition_0\": \"input\", \"partition_1\": \"plant_readings\", \"year\": \"2025\", \"month\": \"9\", \"day\": \"26\"}, {\"plant_id\": 13, \"plant_name\": \"Cuphea \\u2018David Verity\\u2019\", \"city_id\": 13, \"city_name\": \"New Clark\", \"average_temperature\": 15, \"average_soil_moisture\": 34.93, \"number_of_times_watered\": 1, \"number_of_recordings_taken\": 6, \"partition_0\": \"input\", \"partition_1\": \"plant_readings\", \"year\": \"2025\", \"month\": \"9\", \"day\": \"26\"}, {\"plant_id\": 14, \"plant_name\": \"Euphorbia Cotinifolia\", \"city_id\": 14, \"city_name\": \"Boscomouth\", \"average_temperature\": 15, \"average_soil_moisture\": 0.36, \"number_of_times_watered\": 1, \"number_of_recordings_taken\": 6, \"partition_0\": \"input\", \"partition_1\": \"plant_readings\", \"year\": \"2025\", \"month\": \"9\", \"day\": \"26\"}, {\"plant_id\": 15, \"plant_name\": \"Ipomoea Batatas\", \"city_id\": 15, \"city_name\": \"Herzogland\", \"average_temperature\": 15, \"average_soil_moisture\": 28.81, \"number_of_times_watered\": 1, \"number_of_recordings_taken\": 6, \"partition_0\": \"input\", \"partition_1\": \"plant_readings\", \"year\": \"2025\", \"month\": \"9\", \"day\": \"26\"}, {\"plant_id\": 32, \"plant_name\": \"Monstera Deliciosa\", \"city_id\": 33, \"city_name\": \"Clearwater\", \"average_temperature\": 16, \"average_soil_moisture\": 36.64, \"number_of_times_watered\": 1, \"number_of_recordings_taken\": 6, \"partition_0\": \"input\", \"partition_1\": \"plant_readings\", \"year\": \"2025\", \"month\": \"9\", \"day\": \"26\"}, {\"plant_id\": 33, \"plant_name\": \"Tacca Integrifolia\", \"city_id\": 34, \"city_name\": \"South Armani\", \"average_temperature\": 13, \"average_soil_moisture\": 32.86, \"number_of_times_watered\": 1, \"number_of_recordings_taken\": 6, \"partition_0\": \"input\", \"partition_1\": \"plant_readings\", \"year\": \"2025\", \"month\": \"9\", \"day\": \"26\"}, {\"plant_id\": 34, \"plant_name\": \"Psychopsis Papilio\", \"city_id\": 35, \"city_name\": \"Port Fredrick\", \"average_temperature\": 17, \"average_soil_moisture\": 34.04, \"number_of_times_watered\": 1, \"number_of_recordings_taken\": 6, \"partition_0\": \"input\", \"partition_1\": \"plant_readings\", \"year\": \"2025\", \"month\": \"9\", \"day\": \"26\"}, {\"plant_id\": 35, \"plant_name\": \"Saintpaulia Ionantha\", \"city_id\": 36, \"city_name\": \"Peoria\", \"average_temperature\": 15, \"average_soil_moisture\": 29.48, \"number_of_times_watered\": 1, \"number_of_recordings_taken\": 6, \"partition_0\": \"input\", \"partition_1\": \"plant_readings\", \"year\": \"2025\", \"month\": \"9\", \"day\": \"26\"}, {\"plant_id\": 36, \"plant_name\": \"Amaryllis\", \"city_id\": 37, \"city_name\": \"South Hectorstead\", \"average_temperature\": 16, \"average_soil_moisture\": 37.06, \"number_of_times_watered\": 1, \"number_of_recordings_taken\": 5, \"partition_0\": \"input\", \"partition_1\": \"plant_readings\", \"year\": \"2025\", \"month\": \"9\", \"day\": \"26\"}, {\"plant_id\": 37, \"plant_name\": \"Caladium Bicolor\", \"city_id\": 38, \"city_name\": \"Ernserworth\", \"average_temperature\": 15, \"average_soil_moisture\": 35.25, \"number_of_times_watered\": 1, \"number_of_recordings_taken\": 6, \"partition_0\": \"input\", \"partition_1\": \"plant_readings\", \"year\": \"2025\", \"month\": \"9\", \"day\": \"26\"}, {\"plant_id\": 38, \"plant_name\": \"Chlorophytum Comosum\", \"city_id\": 39, \"city_name\": \"Buffalo Grove\", \"average_temperature\": 13, \"average_soil_moisture\": 36.49, \"number_of_times_watered\": 1, \"number_of_recordings_taken\": 6, \"partition_0\": \"input\", \"partition_1\": \"plant_readings\", \"year\": \"2025\", \"month\": \"9\", \"day\": \"26\"}, {\"plant_id\": 39, \"plant_name\": \"Araucaria Heterophylla\", \"city_id\": 40, \"city_name\": \"Catonsville\", \"average_temperature\": 15, \"average_soil_moisture\": 34.01, \"number_of_times_watered\": 1, \"number_of_recordings_taken\": 6, \"partition_0\": \"input\", \"partition_1\": \"plant_readings\", \"year\": \"2025\", \"month\": \"9\", \"day\": \"26\"}, {\"plant_id\": 40, \"plant_name\": \"Begonia\", \"city_id\": 41, \"city_name\": \"South Julianview\", \"average_temperature\": 17, \"average_soil_moisture\": 11.55, \"number_of_times_watered\": 1, \"number_of_recordings_taken\": 6, \"partition_0\": \"input\", \"partition_1\": \"plant_readings\", \"year\": \"2025\", \"month\": \"9\", \"day\": \"26\"}, {\"plant_id\": 41, \"plant_name\": \"Medinilla Magnifica\", \"city_id\": 42, \"city_name\": \"Kathrynville\", \"average_temperature\": 17, \"average_soil_moisture\": 30.84, \"number_of_times_watered\": 1, \"number_of_recordings_taken\": 6, \"partition_0\": \"input\", \"partition_1\": \"plant_readings\", \"year\": \"2025\", \"month\": \"9\", \"day\": \"26\"}, {\"plant_id\": 42, \"plant_name\": \"Calliandra Haematocephala\", \"city_id\": 43, \"city_name\": \"Gavinstad\", \"average_temperature\": 12, \"average_soil_moisture\": 4.54, \"number_of_times_watered\": 1, \"number_of_recordings_taken\": 6, \"partition_0\": \"input\", \"partition_1\": \"plant_readings\", \"year\": \"2025\", \"month\": \"9\", \"day\": \"26\"}, {\"plant_id\": 43, \"plant_name\": \"Zamioculcas Zamiifolia\", \"city_id\": 44, \"city_name\": \"Lake Norbertstead\", \"average_temperature\": 14, \"average_soil_moisture\": 34.3, \"number_of_times_watered\": 1, \"number_of_recordings_taken\": 6, \"partition_0\": \"input\", \"partition_1\": \"plant_readings\", \"year\": \"2025\", \"month\": \"9\", \"day\": \"26\"}, {\"plant_id\": 44, \"plant_name\": \"Crassula Ovata\", \"city_id\": 45, \"city_name\": \"Ginaberg\", \"average_temperature\": 17, \"average_soil_moisture\": 32.96, \"number_of_times_watered\": 1, \"number_of_recordings_taken\": 6, \"partition_0\": \"input\", \"partition_1\": \"plant_readings\", \"year\": \"2025\", \"month\": \"9\", \"day\": \"26\"}, {\"plant_id\": 45, \"plant_name\": \"Epipremnum Aureum\", \"city_id\": 46, \"city_name\": \"Joanyland\", \"average_temperature\": 15, \"average_soil_moisture\": 34.91, \"number_of_times_watered\": 1, \"number_of_recordings_taken\": 6, \"partition_0\": \"input\", \"partition_1\": \"plant_readings\", \"year\": \"2025\", \"month\": \"9\", \"day\": \"26\"}, {\"plant_id\": 46, \"plant_name\": \"Canna \\u2018Striata\\u2019\", \"city_id\": 47, \"city_name\": \"Annaboro\", \"average_temperature\": 14, \"average_soil_moisture\": 36.07, \"number_of_times_watered\": 1, \"number_of_recordings_taken\": 5, \"partition_0\": \"input\", \"partition_1\": \"plant_readings\", \"year\": \"2025\", \"month\": \"9\", \"day\": \"26\"}, {\"plant_id\": 47, \"plant_name\": \"Gaillardia\", \"city_id\": 48, \"city_name\": \"Littlehaven\", \"average_temperature\": 14, \"average_soil_moisture\": 32.11, \"number_of_times_watered\": 1, \"number_of_recordings_taken\": 5, \"partition_0\": \"input\", \"partition_1\": \"plant_readings\", \"year\": \"2025\", \"month\": \"9\", \"day\": \"26\"}, {\"plant_id\": 16, \"plant_name\": \"Manihot Esculenta \\u2018Variegata\\u2019\", \"city_id\": 16, \"city_name\": \"Miramar\", \"average_temperature\": 12, \"average_soil_moisture\": 36.72, \"number_of_times_watered\": 1, \"number_of_recordings_taken\": 6, \"partition_0\": \"input\", \"partition_1\": \"plant_readings\", \"year\": \"2025\", \"month\": \"9\", \"day\": \"26\"}, {\"plant_id\": 17, \"plant_name\": \"Musa Basjoo\", \"city_id\": 17, \"city_name\": \"Port Jennings\", \"average_temperature\": 14, \"average_soil_moisture\": 35.28, \"number_of_times_watered\": 1, \"number_of_recordings_taken\": 6, \"partition_0\": \"input\", \"partition_1\": \"plant_readings\", \"year\": \"2025\", \"month\": \"9\", \"day\": \"26\"}, {\"plant_id\": 18, \"plant_name\": \"Salvia Splendens\", \"city_id\": 18, \"city_name\": \"Oceanside\", \"average_temperature\": 15, \"average_soil_moisture\": 32.89, \"number_of_times_watered\": 1, \"number_of_recordings_taken\": 6, \"partition_0\": \"input\", \"partition_1\": \"plant_readings\", \"year\": \"2025\", \"month\": \"9\", \"day\": \"26\"}, {\"plant_id\": 19, \"plant_name\": \"Anthurium\", \"city_id\": 19, \"city_name\": \"Hollisfurt\", \"average_temperature\": 14, \"average_soil_moisture\": 30.27, \"number_of_times_watered\": 1, \"number_of_recordings_taken\": 5, \"partition_0\": \"input\", \"partition_1\": \"plant_readings\", \"year\": \"2025\", \"month\": \"9\", \"day\": \"26\"}, {\"plant_id\": 20, \"plant_name\": \"Cordyline Fruticosa\", \"city_id\": 21, \"city_name\": \"New Glenda\", \"average_temperature\": 16, \"average_soil_moisture\": 31.61, \"number_of_times_watered\": 1, \"number_of_recordings_taken\": 6, \"partition_0\": \"input\", \"partition_1\": \"plant_readings\", \"year\": \"2025\", \"month\": \"9\", \"day\": \"26\"}, {\"plant_id\": 21, \"plant_name\": \"Ficus\", \"city_id\": 22, \"city_name\": \"Adamshaven\", \"average_temperature\": 14, \"average_soil_moisture\": 36.37, \"number_of_times_watered\": 1, \"number_of_recordings_taken\": 6, \"partition_0\": \"input\", \"partition_1\": \"plant_readings\", \"year\": \"2025\", \"month\": \"9\", \"day\": \"26\"}, {\"plant_id\": 22, \"plant_name\": \"Palm Trees\", \"city_id\": 23, \"city_name\": \"Laronburgh\", \"average_temperature\": 14, \"average_soil_moisture\": 34.83, \"number_of_times_watered\": 1, \"number_of_recordings_taken\": 6, \"partition_0\": \"input\", \"partition_1\": \"plant_readings\", \"year\": \"2025\", \"month\": \"9\", \"day\": \"26\"}, {\"plant_id\": 23, \"plant_name\": \"Dieffenbachia Seguine\", \"city_id\": 24, \"city_name\": \"South Nyasia\", \"average_temperature\": 15, \"average_soil_moisture\": 33.1, \"number_of_times_watered\": 1, \"number_of_recordings_taken\": 6, \"partition_0\": \"input\", \"partition_1\": \"plant_readings\", \"year\": \"2025\", \"month\": \"9\", \"day\": \"26\"}, {\"plant_id\": 24, \"plant_name\": \"Spathiphyllum\", \"city_id\": 25, \"city_name\": \"South Dawn\", \"average_temperature\": 13, \"average_soil_moisture\": 35.32, \"number_of_times_watered\": 1, \"number_of_recordings_taken\": 6, \"partition_0\": \"input\", \"partition_1\": \"plant_readings\", \"year\": \"2025\", \"month\": \"9\", \"day\": \"26\"}, {\"plant_id\": 25, \"plant_name\": \"Croton\", \"city_id\": 26, \"city_name\": \"Greenholtland\", \"average_temperature\": 15, \"average_soil_moisture\": 33.68, \"number_of_times_watered\": 1, \"number_of_recordings_taken\": 6, \"partition_0\": \"input\", \"partition_1\": \"plant_readings\", \"year\": \"2025\", \"month\": \"9\", \"day\": \"26\"}, {\"plant_id\": 26, \"plant_name\": \"Aloe Vera\", \"city_id\": 27, \"city_name\": \"Potomac\", \"average_temperature\": 17, \"average_soil_moisture\": 32.64, \"number_of_times_watered\": 1, \"number_of_recordings_taken\": 6, \"partition_0\": \"input\", \"partition_1\": \"plant_readings\", \"year\": \"2025\", \"month\": \"9\", \"day\": \"26\"}, {\"plant_id\": 27, \"plant_name\": \"Ficus Elastica\", \"city_id\": 28, \"city_name\": \"Portsmouth\", \"average_temperature\": 16, \"average_soil_moisture\": 32.46, \"number_of_times_watered\": 1, \"number_of_recordings_taken\": 6, \"partition_0\": \"input\", \"partition_1\": \"plant_readings\", \"year\": \"2025\", \"month\": \"9\", \"day\": \"26\"}, {\"plant_id\": 28, \"plant_name\": \"Sansevieria Trifasciata\", \"city_id\": 29, \"city_name\": \"Ottomouth\", \"average_temperature\": 17, \"average_soil_moisture\": 33.94, \"number_of_times_watered\": 1, \"number_of_recordings_taken\": 6, \"partition_0\": \"input\", \"partition_1\": \"plant_readings\", \"year\": \"2025\", \"month\": \"9\", \"day\": \"26\"}, {\"plant_id\": 29, \"plant_name\": \"Philodendron Hederaceum\", \"city_id\": 30, \"city_name\": \"Steuberfurt\", \"average_temperature\": 16, \"average_soil_moisture\": 32.57, \"number_of_times_watered\": 1, \"number_of_recordings_taken\": 6, \"partition_0\": \"input\", \"partition_1\": \"plant_readings\", \"year\": \"2025\", \"month\": \"9\", \"day\": \"26\"}, {\"plant_id\": 30, \"plant_name\": \"Schefflera Arboricola\", \"city_id\": 31, \"city_name\": \"Cutler Bay\", \"average_temperature\": 16, \"average_soil_moisture\": 30.45, \"number_of_times_watered\": 1, \"number_of_recordings_taken\": 6, \"partition_0\": \"input\", \"partition_1\": \"plant_readings\", \"year\": \"2025\", \"month\": \"9\", \"day\": \"26\"}, {\"plant_id\": 31, \"plant_name\": \"Aglaonema Commutatum\", \"city_id\": 32, \"city_name\": \"New Danika\", \"average_temperature\": 13, \"average_soil_moisture\": 33.22, \"number_of_times_watered\": 1, \"number_of_recordings_taken\": 6, \"partition_0\": \"input\", \"partition_1\": \"plant_readings\", \"year\": \"2025\", \"month\": \"9\", \"day\": \"26\"}]}}, {\"mode\": \"vega-lite\"});\n",
       "</script>"
      ],
      "text/plain": [
       "alt.Chart(...)"
      ]
     },
     "execution_count": 28,
     "metadata": {},
     "output_type": "execute_result"
    }
   ],
   "source": [
    "def avg_moisture(df: pd.DataFrame):\n",
    "    \"\"\"Line chart showing average soil moisture over time by plant\"\"\"\n",
    "    chart2 = alt.Chart(df).mark_line().encode(\n",
    "        x=alt.X(\"day:T\", title=\"Day\"),  \n",
    "        y=alt.Y(\"average_soil_moisture:Q\", title=\"Average Moisture\"),\n",
    "        color=alt.Color(\"plant_name:N\", title=\"Plant Name\"),\n",
    "        tooltip=[\"day:T\", \"plant_name:N\", \"average_soil_moisture:Q\"]\n",
    "    ).properties(\n",
    "        title=\"Average Daily Moisture Over Time by Plant\"\n",
    "    )\n",
    "    return chart2\n",
    "chart2 = avg_moisture(df)\n",
    "\n",
    "chart2"
   ]
  },
  {
   "cell_type": "code",
   "execution_count": null,
   "id": "0e9e2ecf",
   "metadata": {},
   "outputs": [],
   "source": []
  },
  {
   "cell_type": "code",
   "execution_count": null,
   "id": "525d2ec0",
   "metadata": {},
   "outputs": [],
   "source": []
  },
  {
   "cell_type": "code",
   "execution_count": null,
   "id": "570f690d",
   "metadata": {},
   "outputs": [],
   "source": []
  },
  {
   "cell_type": "code",
   "execution_count": null,
   "id": "36ee9dbf",
   "metadata": {},
   "outputs": [],
   "source": []
  },
  {
   "cell_type": "code",
   "execution_count": null,
   "id": "4b7f18a8",
   "metadata": {},
   "outputs": [],
   "source": []
  },
  {
   "cell_type": "code",
   "execution_count": null,
   "id": "22657053",
   "metadata": {},
   "outputs": [],
   "source": []
  }
 ],
 "metadata": {
  "kernelspec": {
   "display_name": ".venv",
   "language": "python",
   "name": "python3"
  },
  "language_info": {
   "codemirror_mode": {
    "name": "ipython",
    "version": 3
   },
   "file_extension": ".py",
   "mimetype": "text/x-python",
   "name": "python",
   "nbconvert_exporter": "python",
   "pygments_lexer": "ipython3",
   "version": "3.13.7"
  }
 },
 "nbformat": 4,
 "nbformat_minor": 5
}
